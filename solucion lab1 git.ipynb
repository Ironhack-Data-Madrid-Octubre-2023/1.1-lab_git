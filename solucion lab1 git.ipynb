{
 "cells": [
  {
   "cell_type": "markdown",
   "id": "3bc9c494",
   "metadata": {},
   "source": [
    "step 1: git status"
   ]
  },
  {
   "cell_type": "code",
   "execution_count": null,
   "id": "12a5988b",
   "metadata": {},
   "outputs": [],
   "source": [
    "git no funciona"
   ]
  }
 ],
 "metadata": {
  "kernelspec": {
   "display_name": "clase",
   "language": "python",
   "name": "clase"
  },
  "language_info": {
   "codemirror_mode": {
    "name": "ipython",
    "version": 3
   },
   "file_extension": ".py",
   "mimetype": "text/x-python",
   "name": "python",
   "nbconvert_exporter": "python",
   "pygments_lexer": "ipython3",
   "version": "3.11.5"
  }
 },
 "nbformat": 4,
 "nbformat_minor": 5
}
